{
  "nbformat": 4,
  "nbformat_minor": 0,
  "metadata": {
    "colab": {
      "name": "27/01/2020 class1",
      "provenance": [],
      "authorship_tag": "ABX9TyNVWiAnXRaeycfSFOwwm2E6",
      "include_colab_link": true
    },
    "kernelspec": {
      "name": "python3",
      "display_name": "Python 3"
    }
  },
  "cells": [
    {
      "cell_type": "markdown",
      "metadata": {
        "id": "view-in-github",
        "colab_type": "text"
      },
      "source": [
        "<a href=\"https://colab.research.google.com/github/Basavarajeshwari-Ambi/Aframe-solarsystem/blob/master/27_01_2020_class1.ipynb\" target=\"_parent\"><img src=\"https://colab.research.google.com/assets/colab-badge.svg\" alt=\"Open In Colab\"/></a>"
      ]
    },
    {
      "cell_type": "markdown",
      "metadata": {
        "id": "b3QCb1tfGj9F",
        "colab_type": "text"
      },
      "source": [
        "print examples"
      ]
    },
    {
      "cell_type": "code",
      "metadata": {
        "id": "rtVWaaQUAEFY",
        "colab_type": "code",
        "colab": {
          "base_uri": "https://localhost:8080/",
          "height": 68
        },
        "outputId": "56968df1-b5d5-4f86-f44b-6b4c9647d13e"
      },
      "source": [
        "a = 5\n",
        "print(\"a=\",a)\n",
        "print(\"a=%d\"%(a))\n",
        "print(\"a={0}\".format(a))"
      ],
      "execution_count": 34,
      "outputs": [
        {
          "output_type": "stream",
          "text": [
            "a= 5\n",
            "a=5\n",
            "a=5\n"
          ],
          "name": "stdout"
        }
      ]
    },
    {
      "cell_type": "code",
      "metadata": {
        "id": "d1Z6YBmfG6dR",
        "colab_type": "code",
        "colab": {
          "base_uri": "https://localhost:8080/",
          "height": 299
        },
        "outputId": "8eda55e4-bcaa-44de-dbcc-3751f4fff5b0"
      },
      "source": [
        "import cmath\n",
        "print(\"Enter the value of x,y,z\")\n",
        "x=int(input())\n",
        "y=float(input())\n",
        "z=complex(a=int(input()),b=int(input()));\n",
        "print(\"The value of x is\",x)\n",
        "print(\"The value of y is\",y)\n",
        "print(\"The value of z is\",z.real)"
      ],
      "execution_count": 53,
      "outputs": [
        {
          "output_type": "stream",
          "text": [
            "Enter the value of x,y,z\n",
            "4\n",
            "2.2\n",
            "1,2\n"
          ],
          "name": "stdout"
        },
        {
          "output_type": "error",
          "ename": "ValueError",
          "evalue": "ignored",
          "traceback": [
            "\u001b[0;31m---------------------------------------------------------------------------\u001b[0m",
            "\u001b[0;31mValueError\u001b[0m                                Traceback (most recent call last)",
            "\u001b[0;32m<ipython-input-53-af4329390f8f>\u001b[0m in \u001b[0;36m<module>\u001b[0;34m()\u001b[0m\n\u001b[1;32m      3\u001b[0m \u001b[0mx\u001b[0m\u001b[0;34m=\u001b[0m\u001b[0mint\u001b[0m\u001b[0;34m(\u001b[0m\u001b[0minput\u001b[0m\u001b[0;34m(\u001b[0m\u001b[0;34m)\u001b[0m\u001b[0;34m)\u001b[0m\u001b[0;34m\u001b[0m\u001b[0;34m\u001b[0m\u001b[0m\n\u001b[1;32m      4\u001b[0m \u001b[0my\u001b[0m\u001b[0;34m=\u001b[0m\u001b[0mfloat\u001b[0m\u001b[0;34m(\u001b[0m\u001b[0minput\u001b[0m\u001b[0;34m(\u001b[0m\u001b[0;34m)\u001b[0m\u001b[0;34m)\u001b[0m\u001b[0;34m\u001b[0m\u001b[0;34m\u001b[0m\u001b[0m\n\u001b[0;32m----> 5\u001b[0;31m \u001b[0mz\u001b[0m\u001b[0;34m=\u001b[0m\u001b[0mcomplex\u001b[0m\u001b[0;34m(\u001b[0m\u001b[0ma\u001b[0m\u001b[0;34m=\u001b[0m\u001b[0mint\u001b[0m\u001b[0;34m(\u001b[0m\u001b[0minput\u001b[0m\u001b[0;34m(\u001b[0m\u001b[0;34m)\u001b[0m\u001b[0;34m)\u001b[0m\u001b[0;34m,\u001b[0m\u001b[0mb\u001b[0m\u001b[0;34m=\u001b[0m\u001b[0mint\u001b[0m\u001b[0;34m(\u001b[0m\u001b[0minput\u001b[0m\u001b[0;34m(\u001b[0m\u001b[0;34m)\u001b[0m\u001b[0;34m)\u001b[0m\u001b[0;34m)\u001b[0m\u001b[0;34m;\u001b[0m\u001b[0;34m\u001b[0m\u001b[0;34m\u001b[0m\u001b[0m\n\u001b[0m\u001b[1;32m      6\u001b[0m \u001b[0mprint\u001b[0m\u001b[0;34m(\u001b[0m\u001b[0;34m\"The value of x is\"\u001b[0m\u001b[0;34m,\u001b[0m\u001b[0mx\u001b[0m\u001b[0;34m)\u001b[0m\u001b[0;34m\u001b[0m\u001b[0;34m\u001b[0m\u001b[0m\n\u001b[1;32m      7\u001b[0m \u001b[0mprint\u001b[0m\u001b[0;34m(\u001b[0m\u001b[0;34m\"The value of y is\"\u001b[0m\u001b[0;34m,\u001b[0m\u001b[0my\u001b[0m\u001b[0;34m)\u001b[0m\u001b[0;34m\u001b[0m\u001b[0;34m\u001b[0m\u001b[0m\n",
            "\u001b[0;31mValueError\u001b[0m: invalid literal for int() with base 10: '1,2'"
          ]
        }
      ]
    },
    {
      "cell_type": "code",
      "metadata": {
        "id": "HOyYwr8cJlO_",
        "colab_type": "code",
        "colab": {
          "base_uri": "https://localhost:8080/",
          "height": 265
        },
        "outputId": "ace11d23-720d-44c6-cd10-a5256e260c01"
      },
      "source": [
        "import cmath \n",
        "  \n",
        "# Initializing real numbers \n",
        "\n",
        "  \n",
        "# converting x and y into complex number \n",
        "z = complex(x=int(input()),y=int(input())); \n",
        "  \n",
        "# printing real and imaginary part of complex number \n",
        "print (\"The real part of complex number is : \",end=\"\") \n",
        "print (z.real) \n",
        "  \n",
        "print (\"The imaginary part of complex number is : \",end=\"\") \n",
        "print (z.imag)"
      ],
      "execution_count": 55,
      "outputs": [
        {
          "output_type": "stream",
          "text": [
            "5\n",
            "4\n"
          ],
          "name": "stdout"
        },
        {
          "output_type": "error",
          "ename": "TypeError",
          "evalue": "ignored",
          "traceback": [
            "\u001b[0;31m---------------------------------------------------------------------------\u001b[0m",
            "\u001b[0;31mTypeError\u001b[0m                                 Traceback (most recent call last)",
            "\u001b[0;32m<ipython-input-55-1f772f5d86d7>\u001b[0m in \u001b[0;36m<module>\u001b[0;34m()\u001b[0m\n\u001b[1;32m      5\u001b[0m \u001b[0;34m\u001b[0m\u001b[0m\n\u001b[1;32m      6\u001b[0m \u001b[0;31m# converting x and y into complex number\u001b[0m\u001b[0;34m\u001b[0m\u001b[0;34m\u001b[0m\u001b[0;34m\u001b[0m\u001b[0m\n\u001b[0;32m----> 7\u001b[0;31m \u001b[0mz\u001b[0m \u001b[0;34m=\u001b[0m \u001b[0mcomplex\u001b[0m\u001b[0;34m(\u001b[0m\u001b[0mx\u001b[0m\u001b[0;34m=\u001b[0m\u001b[0mint\u001b[0m\u001b[0;34m(\u001b[0m\u001b[0minput\u001b[0m\u001b[0;34m(\u001b[0m\u001b[0;34m)\u001b[0m\u001b[0;34m)\u001b[0m\u001b[0;34m,\u001b[0m\u001b[0my\u001b[0m\u001b[0;34m=\u001b[0m\u001b[0mint\u001b[0m\u001b[0;34m(\u001b[0m\u001b[0minput\u001b[0m\u001b[0;34m(\u001b[0m\u001b[0;34m)\u001b[0m\u001b[0;34m)\u001b[0m\u001b[0;34m)\u001b[0m\u001b[0;34m;\u001b[0m\u001b[0;34m\u001b[0m\u001b[0;34m\u001b[0m\u001b[0m\n\u001b[0m\u001b[1;32m      8\u001b[0m \u001b[0;34m\u001b[0m\u001b[0m\n\u001b[1;32m      9\u001b[0m \u001b[0;31m# printing real and imaginary part of complex number\u001b[0m\u001b[0;34m\u001b[0m\u001b[0;34m\u001b[0m\u001b[0;34m\u001b[0m\u001b[0m\n",
            "\u001b[0;31mTypeError\u001b[0m: 'x' is an invalid keyword argument for this function"
          ]
        }
      ]
    },
    {
      "cell_type": "markdown",
      "metadata": {
        "id": "MoSjaRLXKmd3",
        "colab_type": "text"
      },
      "source": [
        "Example for Short Circuit Eroor"
      ]
    },
    {
      "cell_type": "code",
      "metadata": {
        "id": "skOtvsEcKJ2u",
        "colab_type": "code",
        "colab": {
          "base_uri": "https://localhost:8080/",
          "height": 197
        },
        "outputId": "9f6e0e6c-3084-4cb6-bd0d-452f412bbfd0"
      },
      "source": [
        "x=3\n",
        "y=0\n",
        "(x>1)and((x/y)>1)"
      ],
      "execution_count": 46,
      "outputs": [
        {
          "output_type": "error",
          "ename": "ZeroDivisionError",
          "evalue": "ignored",
          "traceback": [
            "\u001b[0;31m---------------------------------------------------------------------------\u001b[0m",
            "\u001b[0;31mZeroDivisionError\u001b[0m                         Traceback (most recent call last)",
            "\u001b[0;32m<ipython-input-46-57b4b6efe2a6>\u001b[0m in \u001b[0;36m<module>\u001b[0;34m()\u001b[0m\n\u001b[1;32m      1\u001b[0m \u001b[0mx\u001b[0m\u001b[0;34m=\u001b[0m\u001b[0;36m3\u001b[0m\u001b[0;34m\u001b[0m\u001b[0;34m\u001b[0m\u001b[0m\n\u001b[1;32m      2\u001b[0m \u001b[0my\u001b[0m\u001b[0;34m=\u001b[0m\u001b[0;36m0\u001b[0m\u001b[0;34m\u001b[0m\u001b[0;34m\u001b[0m\u001b[0m\n\u001b[0;32m----> 3\u001b[0;31m \u001b[0;34m(\u001b[0m\u001b[0mx\u001b[0m\u001b[0;34m>\u001b[0m\u001b[0;36m1\u001b[0m\u001b[0;34m)\u001b[0m\u001b[0;32mand\u001b[0m\u001b[0;34m(\u001b[0m\u001b[0;34m(\u001b[0m\u001b[0mx\u001b[0m\u001b[0;34m/\u001b[0m\u001b[0my\u001b[0m\u001b[0;34m)\u001b[0m\u001b[0;34m>\u001b[0m\u001b[0;36m1\u001b[0m\u001b[0;34m)\u001b[0m\u001b[0;34m\u001b[0m\u001b[0;34m\u001b[0m\u001b[0m\n\u001b[0m",
            "\u001b[0;31mZeroDivisionError\u001b[0m: division by zero"
          ]
        }
      ]
    },
    {
      "cell_type": "code",
      "metadata": {
        "id": "5jy4ZoaQKYSv",
        "colab_type": "code",
        "colab": {
          "base_uri": "https://localhost:8080/",
          "height": 34
        },
        "outputId": "783161e0-538f-4696-b246-aad19777efa5"
      },
      "source": [
        "x=3\n",
        "y=0\n",
        "(x>9)and((x/y)>1)"
      ],
      "execution_count": 48,
      "outputs": [
        {
          "output_type": "execute_result",
          "data": {
            "text/plain": [
              "False"
            ]
          },
          "metadata": {
            "tags": []
          },
          "execution_count": 48
        }
      ]
    },
    {
      "cell_type": "code",
      "metadata": {
        "id": "XWJYUCpQK1bg",
        "colab_type": "code",
        "colab": {
          "base_uri": "https://localhost:8080/",
          "height": 34
        },
        "outputId": "3c2cb854-f12c-453f-e0d5-cb24940d4623"
      },
      "source": [
        "x=3\n",
        "y=0\n",
        "(x>1)or((x/y)>1)"
      ],
      "execution_count": 49,
      "outputs": [
        {
          "output_type": "execute_result",
          "data": {
            "text/plain": [
              "True"
            ]
          },
          "metadata": {
            "tags": []
          },
          "execution_count": 49
        }
      ]
    },
    {
      "cell_type": "code",
      "metadata": {
        "id": "u0TJYh_4K113",
        "colab_type": "code",
        "colab": {
          "base_uri": "https://localhost:8080/",
          "height": 197
        },
        "outputId": "c2c6e354-518f-44b0-9653-aa5953151ba7"
      },
      "source": [
        "x=3\n",
        "y=0\n",
        "(x>9)or((x/y)>1)"
      ],
      "execution_count": 50,
      "outputs": [
        {
          "output_type": "error",
          "ename": "ZeroDivisionError",
          "evalue": "ignored",
          "traceback": [
            "\u001b[0;31m---------------------------------------------------------------------------\u001b[0m",
            "\u001b[0;31mZeroDivisionError\u001b[0m                         Traceback (most recent call last)",
            "\u001b[0;32m<ipython-input-50-e40493064a2b>\u001b[0m in \u001b[0;36m<module>\u001b[0;34m()\u001b[0m\n\u001b[1;32m      1\u001b[0m \u001b[0mx\u001b[0m\u001b[0;34m=\u001b[0m\u001b[0;36m3\u001b[0m\u001b[0;34m\u001b[0m\u001b[0;34m\u001b[0m\u001b[0m\n\u001b[1;32m      2\u001b[0m \u001b[0my\u001b[0m\u001b[0;34m=\u001b[0m\u001b[0;36m0\u001b[0m\u001b[0;34m\u001b[0m\u001b[0;34m\u001b[0m\u001b[0m\n\u001b[0;32m----> 3\u001b[0;31m \u001b[0;34m(\u001b[0m\u001b[0mx\u001b[0m\u001b[0;34m>\u001b[0m\u001b[0;36m9\u001b[0m\u001b[0;34m)\u001b[0m\u001b[0;32mor\u001b[0m\u001b[0;34m(\u001b[0m\u001b[0;34m(\u001b[0m\u001b[0mx\u001b[0m\u001b[0;34m/\u001b[0m\u001b[0my\u001b[0m\u001b[0;34m)\u001b[0m\u001b[0;34m>\u001b[0m\u001b[0;36m1\u001b[0m\u001b[0;34m)\u001b[0m\u001b[0;34m\u001b[0m\u001b[0;34m\u001b[0m\u001b[0m\n\u001b[0m",
            "\u001b[0;31mZeroDivisionError\u001b[0m: division by zero"
          ]
        }
      ]
    },
    {
      "cell_type": "markdown",
      "metadata": {
        "id": "1MpbOT0_LPLB",
        "colab_type": "text"
      },
      "source": [
        "Convert Fahrenight in Celcious"
      ]
    },
    {
      "cell_type": "code",
      "metadata": {
        "id": "oYtJ0fGSLOKg",
        "colab_type": "code",
        "colab": {
          "base_uri": "https://localhost:8080/",
          "height": 68
        },
        "outputId": "d7ed52e6-51a8-41e8-f14d-784a9f941f68"
      },
      "source": [
        "print(\"Enter the temperature in Fahrenight\")\n",
        "x=float(input());\n",
        "y=(x-32)*(5/9)\n",
        "print(\"The temperature in celcius is\",y)"
      ],
      "execution_count": 51,
      "outputs": [
        {
          "output_type": "stream",
          "text": [
            "Enter the temperature in Fahrenight\n",
            "100\n",
            "The temperature in celcius is 37.77777777777778\n"
          ],
          "name": "stdout"
        }
      ]
    },
    {
      "cell_type": "markdown",
      "metadata": {
        "id": "jQ4QcTJzNqKQ",
        "colab_type": "text"
      },
      "source": [
        "Laregest of 3 numbers"
      ]
    },
    {
      "cell_type": "code",
      "metadata": {
        "id": "qRqXhw1YNui1",
        "colab_type": "code",
        "colab": {
          "base_uri": "https://localhost:8080/",
          "height": 85
        },
        "outputId": "8552ba82-d6e1-417d-ae18-4c440d3dd32f"
      },
      "source": [
        "a=int(input(\"Enter value of x\"))\n",
        "b=int(input(\"Enter value of y\"))\n",
        "c=int(input(\"Enter value of z\"))\n",
        "if(a>b):\n",
        "  if(a>c):\n",
        "    print(\"x is largest\")\n",
        "  else:\n",
        "    print(\"z is largest\")\n",
        "else:\n",
        "  if(b>c):\n",
        "    print(\"y is largest\")\n",
        "  else:\n",
        "    print(\"z is largest\")"
      ],
      "execution_count": 60,
      "outputs": [
        {
          "output_type": "stream",
          "text": [
            "Enter value of x1\n",
            "Enter value of y2\n",
            "Enter value of z3\n",
            "z is largest\n"
          ],
          "name": "stdout"
        }
      ]
    },
    {
      "cell_type": "code",
      "metadata": {
        "id": "F3InIvFpPqcA",
        "colab_type": "code",
        "colab": {
          "base_uri": "https://localhost:8080/",
          "height": 85
        },
        "outputId": "79e98be5-3df7-4882-f47e-04bc2e92226d"
      },
      "source": [
        "a=int(input(\"Enter value of x\"))\n",
        "b=int(input(\"Enter value of y\"))\n",
        "c=int(input(\"Enter value of z\"))\n",
        "if((a>b)and(a>c)):\n",
        "    print(\"x is largest\")\n",
        "elif((b>a)and(b>c)):\n",
        "    print(\"y is largest\")\n",
        "else:\n",
        "    print(\"z is largest\")"
      ],
      "execution_count": 65,
      "outputs": [
        {
          "output_type": "stream",
          "text": [
            "Enter value of x5\n",
            "Enter value of y4\n",
            "Enter value of z7\n",
            "z is largest\n"
          ],
          "name": "stdout"
        }
      ]
    },
    {
      "cell_type": "code",
      "metadata": {
        "id": "ebt2ofiYQNS-",
        "colab_type": "code",
        "colab": {
          "base_uri": "https://localhost:8080/",
          "height": 85
        },
        "outputId": "c46dd3e5-cc84-418d-f41c-1747803bc9ac"
      },
      "source": [
        "a=int(input(\"Enter value of x\"))\n",
        "b=int(input(\"Enter value of y\"))\n",
        "c=int(input(\"Enter value of z\"))\n",
        "if((a>b)and(a>c)):\n",
        "    print(\"x is largest\")\n",
        "if((b>a)and(b>c)):\n",
        "    print(\"y is largest\")\n",
        "if((c>a)and(c>b)):\n",
        "    print(\"z is largest\")"
      ],
      "execution_count": 67,
      "outputs": [
        {
          "output_type": "stream",
          "text": [
            "Enter value of x4\n",
            "Enter value of y1\n",
            "Enter value of z2\n",
            "x is largest\n"
          ],
          "name": "stdout"
        }
      ]
    },
    {
      "cell_type": "code",
      "metadata": {
        "id": "tupUwB0NQ67-",
        "colab_type": "code",
        "colab": {
          "base_uri": "https://localhost:8080/",
          "height": 102
        },
        "outputId": "0b93d5f3-bd38-4968-fef4-91454a1207e5"
      },
      "source": [
        "x=int(input(\"Enter the amount spent by a \"))\n",
        "y=int(input(\"Enter the amount spent by b \"))\n",
        "a=(x/200)\n",
        "b=(y/180)\n",
        "print(\"Road constructed by a is \",a,\" meters\")\n",
        "print(\"Road constructed by b is \",b,\"meters\")\n",
        "print(\"Total road constructed \",a+b)"
      ],
      "execution_count": 75,
      "outputs": [
        {
          "output_type": "stream",
          "text": [
            "Enter the amount spent by a 5000\n",
            "Enter the amount spent by b 6000\n",
            "Road constructed by a is  25.0  meters\n",
            "Road constructed by b is  33.333333333333336 meters\n",
            "Total road constructed  58.333333333333336\n"
          ],
          "name": "stdout"
        }
      ]
    },
    {
      "cell_type": "code",
      "metadata": {
        "id": "nSibtOMVTGlQ",
        "colab_type": "code",
        "colab": {
          "base_uri": "https://localhost:8080/",
          "height": 153
        },
        "outputId": "020910c8-ba8b-4fce-eb32-0eefc6736725"
      },
      "source": [
        "print(\"enter the number\")\n",
        "sum=0\n",
        "while(1):\n",
        "  a=input(\"enter your input\")\n",
        "  if(a==\"done\"):\n",
        "    break;\n",
        "  else:\n",
        "    a=int(a)\n",
        "    if(a%2==0):\n",
        "      continue\n",
        "    sum=sum+a\n",
        "print(\"sum=\",sum)"
      ],
      "execution_count": 91,
      "outputs": [
        {
          "output_type": "stream",
          "text": [
            "enter the number\n",
            "enter your input5\n",
            "enter your input2\n",
            "enter your input1\n",
            "enter your input3\n",
            "enter your input4\n",
            "enter your inputdone\n",
            "sum= 9\n"
          ],
          "name": "stdout"
        }
      ]
    },
    {
      "cell_type": "code",
      "metadata": {
        "id": "-DifRtxiWutK",
        "colab_type": "code",
        "colab": {
          "base_uri": "https://localhost:8080/",
          "height": 153
        },
        "outputId": "5f4f48e9-f129-4cef-eb76-4316451aa956"
      },
      "source": [
        "print(\"enter the number\")\n",
        "sum=0\n",
        "while(1):\n",
        "  a=input(\"enter your input\")\n",
        "  if(a==\"done\"):\n",
        "    break;\n",
        "  else:\n",
        "    a=int(a)\n",
        "    if(a%2==0):\n",
        "      pass\n",
        "    else:\n",
        "      sum=sum+a\n",
        "print(\"sum=\",sum)"
      ],
      "execution_count": 90,
      "outputs": [
        {
          "output_type": "stream",
          "text": [
            "enter the number\n",
            "enter your input5\n",
            "enter your input2\n",
            "enter your input1\n",
            "enter your input3\n",
            "enter your input4\n",
            "enter your inputdone\n",
            "sum= 9\n"
          ],
          "name": "stdout"
        }
      ]
    }
  ]
}